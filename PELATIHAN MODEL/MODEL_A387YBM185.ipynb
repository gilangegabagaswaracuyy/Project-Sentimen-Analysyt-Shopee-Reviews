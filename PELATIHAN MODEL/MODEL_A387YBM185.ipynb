{
  "nbformat": 4,
  "nbformat_minor": 0,
  "metadata": {
    "colab": {
      "provenance": []
    },
    "kernelspec": {
      "name": "python3",
      "display_name": "Python 3"
    },
    "language_info": {
      "name": "python"
    }
  },
  "cells": [
    {
      "cell_type": "markdown",
      "source": [
        "# **Import Library**"
      ],
      "metadata": {
        "id": "gYY0XCZiWhfB"
      }
    },
    {
      "cell_type": "code",
      "execution_count": 29,
      "metadata": {
        "id": "eh_Lic8lWcQl"
      },
      "outputs": [],
      "source": [
        "import pandas as pd\n",
        "import numpy as np\n",
        "from sklearn.model_selection import train_test_split\n",
        "from sklearn.preprocessing import LabelEncoder\n",
        "from sklearn.feature_extraction.text import TfidfVectorizer\n",
        "from imblearn.over_sampling import SMOTE\n",
        "from tensorflow.keras.models import Sequential\n",
        "from tensorflow.keras.layers import Embedding, LSTM, Dropout, Dense\n",
        "from tensorflow.keras.callbacks import EarlyStopping, ReduceLROnPlateau\n",
        "from tensorflow.keras.preprocessing.text import Tokenizer\n",
        "from tensorflow.keras.preprocessing.sequence import pad_sequences\n",
        "from sklearn.svm import SVC\n",
        "from sklearn.ensemble import RandomForestClassifier\n",
        "from sklearn.metrics import classification_report, accuracy_score\n",
        "from collections import Counter\n",
        "import re\n",
        "import string"
      ]
    },
    {
      "cell_type": "code",
      "source": [
        "pip install imbalanced-learn"
      ],
      "metadata": {
        "colab": {
          "base_uri": "https://localhost:8080/"
        },
        "id": "rbn9IhHCXFwr",
        "outputId": "27d06e35-344d-4255-9cee-42bf5f6e2957"
      },
      "execution_count": 30,
      "outputs": [
        {
          "output_type": "stream",
          "name": "stdout",
          "text": [
            "Requirement already satisfied: imbalanced-learn in /usr/local/lib/python3.11/dist-packages (0.13.0)\n",
            "Requirement already satisfied: numpy<3,>=1.24.3 in /usr/local/lib/python3.11/dist-packages (from imbalanced-learn) (2.0.2)\n",
            "Requirement already satisfied: scipy<2,>=1.10.1 in /usr/local/lib/python3.11/dist-packages (from imbalanced-learn) (1.14.1)\n",
            "Requirement already satisfied: scikit-learn<2,>=1.3.2 in /usr/local/lib/python3.11/dist-packages (from imbalanced-learn) (1.6.1)\n",
            "Requirement already satisfied: sklearn-compat<1,>=0.1 in /usr/local/lib/python3.11/dist-packages (from imbalanced-learn) (0.1.3)\n",
            "Requirement already satisfied: joblib<2,>=1.1.1 in /usr/local/lib/python3.11/dist-packages (from imbalanced-learn) (1.4.2)\n",
            "Requirement already satisfied: threadpoolctl<4,>=2.0.0 in /usr/local/lib/python3.11/dist-packages (from imbalanced-learn) (3.6.0)\n"
          ]
        }
      ]
    },
    {
      "cell_type": "markdown",
      "source": [
        "# **Memuat Dataset**"
      ],
      "metadata": {
        "id": "2r2n0LmnXNRB"
      }
    },
    {
      "cell_type": "code",
      "source": [
        "df = pd.read_csv('/content/Reviews_Shopee.csv')\n",
        "\n",
        "print(\"Jumlah baris dan kolom:\")\n",
        "print(df.shape)\n",
        "\n",
        "print(\"\\nInformasi kolom:\")\n",
        "print(df.info())\n",
        "\n",
        "print(\"\\n5 baris pertama dataset:\")\n",
        "print(df.head())\n",
        ""
      ],
      "metadata": {
        "colab": {
          "base_uri": "https://localhost:8080/"
        },
        "id": "La5rLhFlXTaM",
        "outputId": "0dab5de8-5a2b-4219-a75f-0200e6ddd338"
      },
      "execution_count": 31,
      "outputs": [
        {
          "output_type": "stream",
          "name": "stdout",
          "text": [
            "Jumlah baris dan kolom:\n",
            "(7993, 11)\n",
            "\n",
            "Informasi kolom:\n",
            "<class 'pandas.core.frame.DataFrame'>\n",
            "RangeIndex: 7993 entries, 0 to 7992\n",
            "Data columns (total 11 columns):\n",
            " #   Column                Non-Null Count  Dtype  \n",
            "---  ------                --------------  -----  \n",
            " 0   reviewId              7993 non-null   object \n",
            " 1   userName              7993 non-null   object \n",
            " 2   userImage             7993 non-null   object \n",
            " 3   content               7993 non-null   object \n",
            " 4   score                 7992 non-null   float64\n",
            " 5   thumbsUpCount         7992 non-null   float64\n",
            " 6   reviewCreatedVersion  7923 non-null   object \n",
            " 7   at                    7992 non-null   object \n",
            " 8   replyContent          7410 non-null   object \n",
            " 9   repliedAt             7410 non-null   object \n",
            " 10  appVersion            7923 non-null   object \n",
            "dtypes: float64(2), object(9)\n",
            "memory usage: 687.0+ KB\n",
            "None\n",
            "\n",
            "5 baris pertama dataset:\n",
            "                               reviewId         userName  \\\n",
            "0  08875cd9-7c15-4849-981f-1e7a220d9ab5  Pengguna Google   \n",
            "1  54df2b65-5871-472a-b37a-c2dd32bb35c8  Pengguna Google   \n",
            "2  20cfc458-4221-44c7-bb55-2737f9d928dd  Pengguna Google   \n",
            "3  dc92ff14-5c53-4a4f-baae-52aa3ded1b90  Pengguna Google   \n",
            "4  c8af59d6-024f-44be-aeb4-f29b02a648a7  Pengguna Google   \n",
            "\n",
            "                                           userImage  \\\n",
            "0  https://play-lh.googleusercontent.com/EGemoI2N...   \n",
            "1  https://play-lh.googleusercontent.com/EGemoI2N...   \n",
            "2  https://play-lh.googleusercontent.com/EGemoI2N...   \n",
            "3  https://play-lh.googleusercontent.com/EGemoI2N...   \n",
            "4  https://play-lh.googleusercontent.com/EGemoI2N...   \n",
            "\n",
            "                                             content  score  thumbsUpCount  \\\n",
            "0  pelayanan selama ini cukup memuaskan,kurir jug...    5.0          197.0   \n",
            "1  tolong jika status pesanan sudah \"Dalam pengan...    5.0         2694.0   \n",
            "2  selama ini saya belanja pake Shopee, sbelumnya...    5.0          365.0   \n",
            "3  dalam satu bulan ini aplikasi shoopee di hp sy...    5.0            7.0   \n",
            "4  aplikasi belanja online yang benar benar menga...    5.0         3597.0   \n",
            "\n",
            "  reviewCreatedVersion                   at  \\\n",
            "0              3.47.40  2025-04-13 16:08:40   \n",
            "1              3.47.39  2025-04-07 04:32:26   \n",
            "2              3.46.36  2025-04-12 09:13:35   \n",
            "3              3.47.40  2025-04-13 02:32:33   \n",
            "4              3.46.37  2025-03-24 14:35:23   \n",
            "\n",
            "                                        replyContent            repliedAt  \\\n",
            "0  Hai kak Agustono , mohon maaf atas ketidaknyam...  2025-04-13 17:27:40   \n",
            "1  Hai kak Dide Naufal, maaf ya buat kamu gak nya...  2025-04-07 05:20:14   \n",
            "2  Haii kak Keysa Senda, maaf ya udh bikin km ris...  2025-04-12 10:17:45   \n",
            "3  Hai kak Erphant. Maaf terkait kendala pada apl...  2025-04-13 04:05:39   \n",
            "4  Hii kak Iqbal Ahmad, makasih ya buat review bi...  2025-03-24 15:18:40   \n",
            "\n",
            "  appVersion  \n",
            "0    3.47.40  \n",
            "1    3.47.39  \n",
            "2    3.46.36  \n",
            "3    3.47.40  \n",
            "4    3.46.37  \n"
          ]
        }
      ]
    },
    {
      "cell_type": "code",
      "source": [
        "print(\"\\nJumlah nilai yang hilang per kolom:\")\n",
        "print(df.isnull().sum())"
      ],
      "metadata": {
        "colab": {
          "base_uri": "https://localhost:8080/"
        },
        "id": "mXC2KiEbYGKT",
        "outputId": "c982a1bf-6648-4c4b-ee9e-c01b99d0a9ac"
      },
      "execution_count": 32,
      "outputs": [
        {
          "output_type": "stream",
          "name": "stdout",
          "text": [
            "\n",
            "Jumlah nilai yang hilang per kolom:\n",
            "reviewId                  0\n",
            "userName                  0\n",
            "userImage                 0\n",
            "content                   0\n",
            "score                     1\n",
            "thumbsUpCount             1\n",
            "reviewCreatedVersion     70\n",
            "at                        1\n",
            "replyContent            583\n",
            "repliedAt               583\n",
            "appVersion               70\n",
            "dtype: int64\n"
          ]
        }
      ]
    },
    {
      "cell_type": "code",
      "source": [
        "print(\"\\nDistribusi rating:\")\n",
        "print(df['score'].value_counts())"
      ],
      "metadata": {
        "colab": {
          "base_uri": "https://localhost:8080/"
        },
        "id": "E7LP2YWTYLjS",
        "outputId": "53039d3f-0d49-4ba2-ed09-200fbf61be82"
      },
      "execution_count": 33,
      "outputs": [
        {
          "output_type": "stream",
          "name": "stdout",
          "text": [
            "\n",
            "Distribusi rating:\n",
            "score\n",
            "5.0    7992\n",
            "Name: count, dtype: int64\n"
          ]
        }
      ]
    },
    {
      "cell_type": "markdown",
      "source": [
        "# **Data Preprocessing**"
      ],
      "metadata": {
        "id": "rBk0OlIoZr7J"
      }
    },
    {
      "cell_type": "markdown",
      "source": [
        "# Cek Data Missing"
      ],
      "metadata": {
        "id": "GaUzyXt7Z2dx"
      }
    },
    {
      "cell_type": "code",
      "source": [
        "df_cleaned = df.dropna(subset=['userName'])\n",
        "print(df_cleaned.isnull().sum())"
      ],
      "metadata": {
        "colab": {
          "base_uri": "https://localhost:8080/"
        },
        "id": "6jIryAYrZywZ",
        "outputId": "7dac8637-1bff-4178-b9f0-ad8ea9b00716"
      },
      "execution_count": 34,
      "outputs": [
        {
          "output_type": "stream",
          "name": "stdout",
          "text": [
            "reviewId                  0\n",
            "userName                  0\n",
            "userImage                 0\n",
            "content                   0\n",
            "score                     1\n",
            "thumbsUpCount             1\n",
            "reviewCreatedVersion     70\n",
            "at                        1\n",
            "replyContent            583\n",
            "repliedAt               583\n",
            "appVersion               70\n",
            "dtype: int64\n"
          ]
        }
      ]
    },
    {
      "cell_type": "markdown",
      "source": [
        "# Text Cleaning"
      ],
      "metadata": {
        "id": "9nPZCjinaB2g"
      }
    },
    {
      "cell_type": "code",
      "source": [
        "def clean_text(text):\n",
        "    text = text.lower()\n",
        "    text = re.sub(r'\\d+', '', text)\n",
        "    text = text.translate(str.maketrans('', '', string.punctuation))\n",
        "    return text\n",
        "\n",
        "df['cleaned_comment'] = df['content'].apply(clean_text)"
      ],
      "metadata": {
        "id": "Vpog501WaFnh"
      },
      "execution_count": 35,
      "outputs": []
    },
    {
      "cell_type": "markdown",
      "source": [
        "# Labeling Sentimen"
      ],
      "metadata": {
        "id": "zz2Hjs7waKZR"
      }
    },
    {
      "cell_type": "code",
      "source": [
        "def get_sentiment(text):\n",
        "    from textblob import TextBlob\n",
        "    polarity = TextBlob(text).sentiment.polarity\n",
        "    if polarity > 0:\n",
        "        return 'positif'\n",
        "    elif polarity < 0:\n",
        "        return 'negatif'\n",
        "    else:\n",
        "        return 'netral'\n",
        "\n",
        "df['label'] = df['cleaned_comment'].apply(get_sentiment)"
      ],
      "metadata": {
        "id": "-ysPnDMYaNrI"
      },
      "execution_count": 36,
      "outputs": []
    },
    {
      "cell_type": "markdown",
      "source": [
        "# **Data Preparation**"
      ],
      "metadata": {
        "id": "jgbMoKR5aUGB"
      }
    },
    {
      "cell_type": "code",
      "source": [
        "y = LabelEncoder().fit_transform(df['label'])\n",
        "X = df['cleaned_comment']\n",
        "\n",
        "X_train_raw, X_test_raw, y_train, y_test = train_test_split(X, y, test_size=0.2, random_state=42, stratify=y)"
      ],
      "metadata": {
        "id": "gkJGcNZjakjR"
      },
      "execution_count": 37,
      "outputs": []
    },
    {
      "cell_type": "markdown",
      "source": [
        "# **Eksperimen Dengan 3 Skema Pelatihan**"
      ],
      "metadata": {
        "id": "B3AN8O4Vau5C"
      }
    },
    {
      "cell_type": "markdown",
      "source": [
        "## **Skema 1: SVM dengan TF-IDF(80/20 split)**"
      ],
      "metadata": {
        "id": "px-AepmEa6rp"
      }
    },
    {
      "cell_type": "code",
      "source": [
        "vectorizer = TfidfVectorizer()\n",
        "X_train_tfidf = vectorizer.fit_transform(X_train_raw)\n",
        "X_test_tfidf = vectorizer.transform(X_test_raw)\n",
        "\n",
        "smote = SMOTE(random_state=42)\n",
        "X_train_tfidf_smote, y_train_smote = smote.fit_resample(X_train_tfidf, y_train)\n",
        "\n",
        "print(\"Distribusi label setelah SMOTE:\", Counter(y_train_smote))"
      ],
      "metadata": {
        "colab": {
          "base_uri": "https://localhost:8080/"
        },
        "id": "yPONvippbSTQ",
        "outputId": "c5fd4472-26d5-476d-c7d9-41e2c8c80dc5"
      },
      "execution_count": 38,
      "outputs": [
        {
          "output_type": "stream",
          "name": "stdout",
          "text": [
            "Distribusi label setelah SMOTE: Counter({np.int64(1): 5642, np.int64(2): 5642, np.int64(0): 5642})\n"
          ]
        }
      ]
    },
    {
      "cell_type": "code",
      "source": [
        "svm = SVC(kernel='linear', random_state=42)\n",
        "svm.fit(X_train_tfidf_smote, y_train_smote)\n",
        "y_pred_svm = svm.predict(X_test_tfidf)\n",
        "accuracy_svm = accuracy_score(y_test, y_pred_svm)\n",
        "print(\"\\nEvaluasi Model SVM:\")\n",
        "print(f\"Accuracy: {accuracy_svm}\")\n",
        "print(classification_report(y_test, y_pred_svm, target_names=['negatif', 'netral', 'positif']))"
      ],
      "metadata": {
        "colab": {
          "base_uri": "https://localhost:8080/"
        },
        "id": "VGSKHgmobYzB",
        "outputId": "3c0bd496-a2da-45e0-ce1a-64befb41fb32"
      },
      "execution_count": 39,
      "outputs": [
        {
          "output_type": "stream",
          "name": "stdout",
          "text": [
            "\n",
            "Evaluasi Model SVM:\n",
            "Accuracy: 0.975609756097561\n",
            "              precision    recall  f1-score   support\n",
            "\n",
            "     negatif       1.00      0.40      0.57        15\n",
            "      netral       0.98      1.00      0.99      1411\n",
            "     positif       0.96      0.86      0.91       173\n",
            "\n",
            "    accuracy                           0.98      1599\n",
            "   macro avg       0.98      0.75      0.82      1599\n",
            "weighted avg       0.98      0.98      0.97      1599\n",
            "\n"
          ]
        }
      ]
    },
    {
      "cell_type": "markdown",
      "source": [
        "## **Skema 2: Random Forest dengan Word2Vec (80/20 split)**"
      ],
      "metadata": {
        "id": "nKHrNPA8c7tq"
      }
    },
    {
      "cell_type": "code",
      "source": [
        "rf = RandomForestClassifier(random_state=42)\n",
        "rf.fit(X_train_tfidf_smote, y_train_smote)\n",
        "y_pred_rf = rf.predict(X_test_tfidf)\n",
        "accuracy_rf = accuracy_score(y_test, y_pred_rf)\n",
        "print(\"\\nEvaluasi Model Random Forest:\")\n",
        "print(f\"Accuracy: {accuracy_rf}\")\n",
        "print(classification_report(y_test, y_pred_rf, target_names=['negatif', 'netral', 'positif']))"
      ],
      "metadata": {
        "colab": {
          "base_uri": "https://localhost:8080/"
        },
        "id": "1TstIQsAdS-q",
        "outputId": "b4db2877-1379-49ff-8cec-680a639ed1f5"
      },
      "execution_count": 40,
      "outputs": [
        {
          "output_type": "stream",
          "name": "stdout",
          "text": [
            "\n",
            "Evaluasi Model Random Forest:\n",
            "Accuracy: 0.9143214509068167\n",
            "              precision    recall  f1-score   support\n",
            "\n",
            "     negatif       0.00      0.00      0.00        15\n",
            "      netral       0.91      1.00      0.95      1411\n",
            "     positif       0.95      0.31      0.47       173\n",
            "\n",
            "    accuracy                           0.91      1599\n",
            "   macro avg       0.62      0.44      0.47      1599\n",
            "weighted avg       0.91      0.91      0.89      1599\n",
            "\n"
          ]
        },
        {
          "output_type": "stream",
          "name": "stderr",
          "text": [
            "/usr/local/lib/python3.11/dist-packages/sklearn/metrics/_classification.py:1565: UndefinedMetricWarning: Precision is ill-defined and being set to 0.0 in labels with no predicted samples. Use `zero_division` parameter to control this behavior.\n",
            "  _warn_prf(average, modifier, f\"{metric.capitalize()} is\", len(result))\n",
            "/usr/local/lib/python3.11/dist-packages/sklearn/metrics/_classification.py:1565: UndefinedMetricWarning: Precision is ill-defined and being set to 0.0 in labels with no predicted samples. Use `zero_division` parameter to control this behavior.\n",
            "  _warn_prf(average, modifier, f\"{metric.capitalize()} is\", len(result))\n",
            "/usr/local/lib/python3.11/dist-packages/sklearn/metrics/_classification.py:1565: UndefinedMetricWarning: Precision is ill-defined and being set to 0.0 in labels with no predicted samples. Use `zero_division` parameter to control this behavior.\n",
            "  _warn_prf(average, modifier, f\"{metric.capitalize()} is\", len(result))\n"
          ]
        }
      ]
    },
    {
      "cell_type": "markdown",
      "source": [
        "## **Skema 3: Deep Learning LSTM (70/30 split)**"
      ],
      "metadata": {
        "id": "LtNqx9s6dsHy"
      }
    },
    {
      "cell_type": "code",
      "source": [
        "max_words = 10000\n",
        "max_len = 100\n",
        "tokenizer = Tokenizer(num_words=max_words)\n",
        "tokenizer.fit_on_texts(X_train_raw)\n",
        "\n",
        "X_train_seq = tokenizer.texts_to_sequences(X_train_raw)\n",
        "X_test_seq = tokenizer.texts_to_sequences(X_test_raw)\n",
        "\n",
        "X_train_pad = pad_sequences(X_train_seq, maxlen=max_len)\n",
        "X_test_pad = pad_sequences(X_test_seq, maxlen=max_len)\n",
        "\n",
        "y_train_cat = pd.get_dummies(y_train).values\n",
        "y_test_cat = pd.get_dummies(y_test).values"
      ],
      "metadata": {
        "id": "8YY_pyifdwMP"
      },
      "execution_count": 41,
      "outputs": []
    },
    {
      "cell_type": "code",
      "source": [
        "model_lstm = Sequential([\n",
        "    Embedding(input_dim=max_words, output_dim=100, input_length=max_len),\n",
        "    LSTM(128, return_sequences=True, kernel_regularizer='l2'),\n",
        "    Dropout(0.5),\n",
        "    LSTM(64, kernel_regularizer='l2'),\n",
        "    Dropout(0.5),\n",
        "    Dense(3, activation='softmax')\n",
        "])\n",
        "\n",
        "model_lstm.compile(loss='categorical_crossentropy', optimizer='adam', metrics=['accuracy'])\n",
        "\n",
        "callbacks = [\n",
        "    EarlyStopping(monitor='val_loss', patience=3, restore_best_weights=True),\n",
        "    ReduceLROnPlateau(monitor='val_loss', factor=0.2, patience=2)\n",
        "]\n",
        "\n",
        "history = model_lstm.fit(\n",
        "    X_train_pad, y_train_cat,\n",
        "    epochs=15,\n",
        "    batch_size=64,\n",
        "    validation_data=(X_test_pad, y_test_cat),\n",
        "    callbacks=callbacks\n",
        ")\n",
        "\n",
        "loss, accuracy_lstm = model_lstm.evaluate(X_test_pad, y_test_cat)\n",
        "print(\"\\nEvaluasi Model LSTM:\")\n",
        "print(f\"Accuracy: {accuracy_lstm}\")\n",
        ""
      ],
      "metadata": {
        "colab": {
          "base_uri": "https://localhost:8080/"
        },
        "id": "J-EYzO8Bd4Gz",
        "outputId": "7b77f374-1a82-479f-f162-1bb3deb96a09"
      },
      "execution_count": 42,
      "outputs": [
        {
          "output_type": "stream",
          "name": "stdout",
          "text": [
            "Epoch 1/15\n"
          ]
        },
        {
          "output_type": "stream",
          "name": "stderr",
          "text": [
            "/usr/local/lib/python3.11/dist-packages/keras/src/layers/core/embedding.py:90: UserWarning: Argument `input_length` is deprecated. Just remove it.\n",
            "  warnings.warn(\n"
          ]
        },
        {
          "output_type": "stream",
          "name": "stdout",
          "text": [
            "\u001b[1m100/100\u001b[0m \u001b[32m━━━━━━━━━━━━━━━━━━━━\u001b[0m\u001b[37m\u001b[0m \u001b[1m46s\u001b[0m 398ms/step - accuracy: 0.8495 - loss: 2.5171 - val_accuracy: 0.8824 - val_loss: 0.5955 - learning_rate: 0.0010\n",
            "Epoch 2/15\n",
            "\u001b[1m100/100\u001b[0m \u001b[32m━━━━━━━━━━━━━━━━━━━━\u001b[0m\u001b[37m\u001b[0m \u001b[1m42s\u001b[0m 418ms/step - accuracy: 0.8793 - loss: 0.5420 - val_accuracy: 0.8824 - val_loss: 0.4196 - learning_rate: 0.0010\n",
            "Epoch 3/15\n",
            "\u001b[1m100/100\u001b[0m \u001b[32m━━━━━━━━━━━━━━━━━━━━\u001b[0m\u001b[37m\u001b[0m \u001b[1m79s\u001b[0m 388ms/step - accuracy: 0.8858 - loss: 0.4108 - val_accuracy: 0.8824 - val_loss: 0.4132 - learning_rate: 0.0010\n",
            "Epoch 4/15\n",
            "\u001b[1m100/100\u001b[0m \u001b[32m━━━━━━━━━━━━━━━━━━━━\u001b[0m\u001b[37m\u001b[0m \u001b[1m41s\u001b[0m 389ms/step - accuracy: 0.8788 - loss: 0.4244 - val_accuracy: 0.8824 - val_loss: 0.3984 - learning_rate: 0.0010\n",
            "Epoch 5/15\n",
            "\u001b[1m100/100\u001b[0m \u001b[32m━━━━━━━━━━━━━━━━━━━━\u001b[0m\u001b[37m\u001b[0m \u001b[1m43s\u001b[0m 402ms/step - accuracy: 0.8900 - loss: 0.3850 - val_accuracy: 0.8824 - val_loss: 0.3978 - learning_rate: 0.0010\n",
            "Epoch 6/15\n",
            "\u001b[1m100/100\u001b[0m \u001b[32m━━━━━━━━━━━━━━━━━━━━\u001b[0m\u001b[37m\u001b[0m \u001b[1m41s\u001b[0m 402ms/step - accuracy: 0.8806 - loss: 0.4125 - val_accuracy: 0.8824 - val_loss: 0.3963 - learning_rate: 0.0010\n",
            "Epoch 7/15\n",
            "\u001b[1m100/100\u001b[0m \u001b[32m━━━━━━━━━━━━━━━━━━━━\u001b[0m\u001b[37m\u001b[0m \u001b[1m41s\u001b[0m 399ms/step - accuracy: 0.8834 - loss: 0.3977 - val_accuracy: 0.8824 - val_loss: 0.3958 - learning_rate: 0.0010\n",
            "Epoch 8/15\n",
            "\u001b[1m100/100\u001b[0m \u001b[32m━━━━━━━━━━━━━━━━━━━━\u001b[0m\u001b[37m\u001b[0m \u001b[1m39s\u001b[0m 383ms/step - accuracy: 0.8813 - loss: 0.4094 - val_accuracy: 0.8824 - val_loss: 0.3967 - learning_rate: 0.0010\n",
            "Epoch 9/15\n",
            "\u001b[1m100/100\u001b[0m \u001b[32m━━━━━━━━━━━━━━━━━━━━\u001b[0m\u001b[37m\u001b[0m \u001b[1m41s\u001b[0m 382ms/step - accuracy: 0.8819 - loss: 0.4092 - val_accuracy: 0.8824 - val_loss: 0.3950 - learning_rate: 0.0010\n",
            "Epoch 10/15\n",
            "\u001b[1m100/100\u001b[0m \u001b[32m━━━━━━━━━━━━━━━━━━━━\u001b[0m\u001b[37m\u001b[0m \u001b[1m41s\u001b[0m 384ms/step - accuracy: 0.8836 - loss: 0.4015 - val_accuracy: 0.8824 - val_loss: 0.3970 - learning_rate: 0.0010\n",
            "Epoch 11/15\n",
            "\u001b[1m100/100\u001b[0m \u001b[32m━━━━━━━━━━━━━━━━━━━━\u001b[0m\u001b[37m\u001b[0m \u001b[1m39s\u001b[0m 394ms/step - accuracy: 0.8752 - loss: 0.4161 - val_accuracy: 0.8824 - val_loss: 0.3971 - learning_rate: 0.0010\n",
            "Epoch 12/15\n",
            "\u001b[1m100/100\u001b[0m \u001b[32m━━━━━━━━━━━━━━━━━━━━\u001b[0m\u001b[37m\u001b[0m \u001b[1m40s\u001b[0m 388ms/step - accuracy: 0.8812 - loss: 0.4022 - val_accuracy: 0.8824 - val_loss: 0.3952 - learning_rate: 2.0000e-04\n",
            "\u001b[1m50/50\u001b[0m \u001b[32m━━━━━━━━━━━━━━━━━━━━\u001b[0m\u001b[37m\u001b[0m \u001b[1m3s\u001b[0m 67ms/step - accuracy: 0.8782 - loss: 0.4040\n",
            "\n",
            "Evaluasi Model LSTM:\n",
            "Accuracy: 0.8824265003204346\n"
          ]
        }
      ]
    },
    {
      "cell_type": "code",
      "source": [
        "import matplotlib.pyplot as plt\n",
        "\n",
        "plt.figure(figsize=(12, 6))\n",
        "\n",
        "plt.subplot(1, 2, 2)\n",
        "plt.plot(history.history['accuracy'], label='Train Accuracy')\n",
        "plt.plot(history.history['val_accuracy'], label='Validation Accuracy')\n",
        "plt.title('Accuracy During Training')\n",
        "plt.xlabel('Epochs')\n",
        "plt.ylabel('Accuracy')\n",
        "plt.legend()\n",
        "\n",
        "plt.subplot(1, 2, 1)\n",
        "plt.plot(history.history['loss'], label='Train Loss')\n",
        "plt.plot(history.history['val_loss'], label='Validation Loss')\n",
        "plt.title('Loss During Training')\n",
        "plt.xlabel('Epochs')\n",
        "plt.ylabel('Loss')\n",
        "plt.legend()\n",
        "\n",
        "plt.show()"
      ],
      "metadata": {
        "colab": {
          "base_uri": "https://localhost:8080/",
          "height": 564
        },
        "id": "oLcOciDvlwML",
        "outputId": "7a8ccb79-a5ad-4a1d-d54c-16fcb181a55b"
      },
      "execution_count": 43,
      "outputs": [
        {
          "output_type": "display_data",
          "data": {
            "text/plain": [
              "<Figure size 1200x600 with 2 Axes>"
            ],
            "image/png": "[encoded data removed]"
          },
          "metadata": {}
        }
      ]
    },
    {
      "cell_type": "markdown",
      "source": [
        "# **Testing**"
      ],
      "metadata": {
        "id": "daja4_JBl9Wq"
      }
    },
    {
      "cell_type": "code",
      "source": [
        "accuracies = {'SVM': accuracy_svm, 'Random Forest': accuracy_rf, 'LSTM': accuracy_lstm}\n",
        "\n",
        "best_model_name = max(accuracies, key=accuracies.get)\n",
        "print(\"\\nModel terbaik berdasarkan akurasi:\", best_model_name)"
      ],
      "metadata": {
        "colab": {
          "base_uri": "https://localhost:8080/"
        },
        "id": "fNO8S86PmC_h",
        "outputId": "26add0f8-b0c6-4253-94c1-b8443c5c5277"
      },
      "execution_count": 44,
      "outputs": [
        {
          "output_type": "stream",
          "name": "stdout",
          "text": [
            "\n",
            "Model terbaik berdasarkan akurasi: SVM\n"
          ]
        }
      ]
    },
    {
      "cell_type": "code",
      "source": [
        "le = LabelEncoder()\n",
        "le.fit(df['label'])\n",
        "if best_model_name == 'SVM':\n",
        "    best_model = svm\n",
        "    best_predictions = y_pred_svm\n",
        "elif best_model_name == 'Random Forest':\n",
        "    best_model = rf\n",
        "    best_predictions = y_pred_rf\n",
        "else:\n",
        "    best_model = model_lstm\n",
        "    best_predictions = model_lstm.predict(X_test_pad).argmax(axis=1)\n",
        "\n",
        "comparison_df = pd.DataFrame({\n",
        "    'Actual': le.inverse_transform(y_test),\n",
        "    'Predicted': le.inverse_transform(best_predictions)\n",
        "})\n",
        "print(\"\\nPerbandingan Label Asli dan Prediksi dengan Model Terbaik:\")\n",
        "print(comparison_df.head())"
      ],
      "metadata": {
        "colab": {
          "base_uri": "https://localhost:8080/"
        },
        "id": "BC_A0NX_mJud",
        "outputId": "a0b02bc2-fefc-46ea-aafa-237a6b77a70f"
      },
      "execution_count": 45,
      "outputs": [
        {
          "output_type": "stream",
          "name": "stdout",
          "text": [
            "\n",
            "Perbandingan Label Asli dan Prediksi dengan Model Terbaik:\n",
            "   Actual Predicted\n",
            "0  netral    netral\n",
            "1  netral    netral\n",
            "2  netral    netral\n",
            "3  netral    netral\n",
            "4  netral    netral\n"
          ]
        }
      ]
    },
    {
      "cell_type": "code",
      "source": [
        "!pip freeze > requirements.txt\n",
        "\n",
        "df = pd.read_csv('requirements.txt', names=['Package'])\n",
        "df.to_csv('requirements.csv', index=False)"
      ],
      "metadata": {
        "id": "jdaRmkGsmULR"
      },
      "execution_count": 47,
      "outputs": []
    }
  ]
}